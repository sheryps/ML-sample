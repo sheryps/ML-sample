{
  "nbformat": 4,
  "nbformat_minor": 0,
  "metadata": {
    "colab": {
      "name": "mask_test.ipynb",
      "provenance": [],
      "mount_file_id": "1qczeFD72nPjtuXgri-oybzlIU3w9SPBK",
      "authorship_tag": "ABX9TyPZ+yUkkcbCDo4p/hxDR1Ox",
      "include_colab_link": true
    },
    "kernelspec": {
      "name": "python3",
      "display_name": "Python 3"
    },
    "language_info": {
      "name": "python"
    }
  },
  "cells": [
    {
      "cell_type": "markdown",
      "metadata": {
        "id": "view-in-github",
        "colab_type": "text"
      },
      "source": [
        "<a href=\"https://colab.research.google.com/github/sheryps/calculations/blob/main/mask_test.ipynb\" target=\"_parent\"><img src=\"https://colab.research.google.com/assets/colab-badge.svg\" alt=\"Open In Colab\"/></a>"
      ]
    },
    {
      "cell_type": "code",
      "metadata": {
        "id": "FQ4J6BnG-r4Y"
      },
      "source": [
        "from glob import glob\n",
        "import os\n",
        "import cv2\n",
        "import matplotlib.pyplot as plt\n",
        "import cv2\n",
        "import numpy as np\n",
        "from keras.preprocessing.image import img_to_array\n",
        "from keras.models import load_model\n",
        "import argparse\n",
        "import imutils\n",
        "import matplotlib.pyplot as plt\n",
        "\n",
        "\n",
        "\n",
        "image=cv2.imread('/content/drive/MyDrive/DEEP LEARNING/MASK DETECTION/data/1/with_mask_1173.jpg')\n",
        "\n",
        "\n",
        "\n",
        "\n",
        "\n"
      ],
      "execution_count": null,
      "outputs": []
    },
    {
      "cell_type": "code",
      "metadata": {
        "id": "EwLOUkf-kEPp"
      },
      "source": [
        "from google.colab import drive\n",
        "drive.mount('/content/drive')"
      ],
      "execution_count": null,
      "outputs": []
    },
    {
      "cell_type": "code",
      "metadata": {
        "id": "YIcutEVS8c9D"
      },
      "source": [
        "model = load_model('/content/drive/MyDrive/DEEP LEARNING/MASK DETECTION/time1.h5')\n",
        "\n"
      ],
      "execution_count": null,
      "outputs": []
    },
    {
      "cell_type": "code",
      "metadata": {
        "colab": {
          "base_uri": "https://localhost:8080/"
        },
        "id": "kw-tv2qG8c1S",
        "outputId": "f9fe53cd-4bf6-4012-ed56-4f70ccd385f6"
      },
      "source": [
        "\n",
        "\n",
        "\n",
        "#plt.imshow(image), plt.show()\n",
        "orig = image.copy()\n",
        "\n",
        "# pre-process the image for classification\n",
        "image1 = cv2.resize(image, (28, 28))\n",
        "image2 = image1.astype(\"float\") / 255.0\n",
        "image3 = img_to_array(image2)\n",
        "############################\n",
        "#image2=cv2.cvtColor(image,cv2.COLOR_GRAY2RGB)\n",
        "print(\"*****************\")\n",
        "#print (image2.shape)\n",
        "image4 = np.expand_dims(image3, axis=0)\n",
        "#image2 = np.expand_dims(image2, axis=0)\n",
        "#image2=cv2.cvtColor(image,cv2.COLOR_GRAY2RGB)\n",
        "\n",
        "#print (image2.shape)\n",
        "#############################\n",
        "# load the trained convolutional neural network\n",
        "print(\"[INFO] loading network...\")\n"
      ],
      "execution_count": null,
      "outputs": [
        {
          "output_type": "stream",
          "text": [
            "*****************\n",
            "[INFO] loading network...\n"
          ],
          "name": "stdout"
        }
      ]
    },
    {
      "cell_type": "code",
      "metadata": {
        "colab": {
          "base_uri": "https://localhost:8080/"
        },
        "id": "x2nZDreH8cs5",
        "outputId": "dfa894e3-f9f8-4aca-8477-67634e4683c6"
      },
      "source": [
        "# classify the input image\n",
        "#(like, dislike) = model.predict(image)[0]\n",
        "#(like, dislike) = model.predict(image2)[0]\n",
        "predictions = model.predict(image4)[0]\n",
        "print (predictions)\n",
        "label=np.argmax(predictions)\n",
        "print(label)\n",
        "#proba=predictions[label]"
      ],
      "execution_count": null,
      "outputs": [
        {
          "output_type": "stream",
          "text": [
            "WARNING:tensorflow:6 out of the last 6 calls to <function Model.make_predict_function.<locals>.predict_function at 0x7f53a0b44170> triggered tf.function retracing. Tracing is expensive and the excessive number of tracings could be due to (1) creating @tf.function repeatedly in a loop, (2) passing tensors with different shapes, (3) passing Python objects instead of tensors. For (1), please define your @tf.function outside of the loop. For (2), @tf.function has experimental_relax_shapes=True option that relaxes argument shapes that can avoid unnecessary retracing. For (3), please refer to https://www.tensorflow.org/guide/function#controlling_retracing and https://www.tensorflow.org/api_docs/python/tf/function for  more details.\n",
            "[0.53701127 0.4629887  0.         0.         0.        ]\n",
            "0\n"
          ],
          "name": "stdout"
        }
      ]
    },
    {
      "cell_type": "code",
      "metadata": {
        "id": "JZS4S3pO8chL"
      },
      "source": [
        "if label==0:\n",
        "  label= \"WITHOUT MASK\"\n",
        "      \n",
        "elif label==1:\n",
        "  label= \"WITH MASK\"\n",
        "#elif label==2:\n",
        "  #label= \"It is a matchbox\"\n",
        "#elif label==3:\n",
        "  #label= \"It is a coin\"\n",
        "\n",
        "#elif label==4:\n",
        "#  label= \"It is a mouse\"\n",
        "#elif label==5:\n",
        "#  label= \"It is a pen\"\n",
        "else:\n",
        "  label=\"Unknown\"\n",
        "# elif label==5:\n",
        "#   label= \"gape healthy\"\n",
        "# elif label==6:\n",
        "#   label= \"peach unhealthy\"\n",
        "# elif label==7:\n",
        "#   label= \"peach healthy\"\n",
        "# elif label==8:\n",
        "#   label= \"pepper unhealthy\"\n",
        "# elif label==9:\n",
        "#   label= \"pepper healthy\"\n",
        "      \n",
        "\n",
        "#label = \"{}: {:.2f}%\".format(label, proba * 100)\n"
      ],
      "execution_count": null,
      "outputs": []
    },
    {
      "cell_type": "code",
      "metadata": {
        "colab": {
          "base_uri": "https://localhost:8080/",
          "height": 284
        },
        "id": "pYJWtKpg89YX",
        "outputId": "3badbdf6-db09-45ec-8340-2b6ef98795a1"
      },
      "source": [
        "# draw the label on the image\n",
        "output = imutils.resize(orig, width=600)\n",
        "\n",
        "\n",
        "\n",
        "print ( label )\n",
        "font                   = cv2.FONT_HERSHEY_SIMPLEX\n",
        "bottomLeftCornerOfText = (10,20)\n",
        "fontScale              = 0.5\n",
        "fontColor              = (0,255,255)\n",
        "lineType               = 1\n",
        "imorg=cv2.putText(image,label,bottomLeftCornerOfText,font,fontScale,fontColor,lineType)\n",
        "plt.imshow(imorg)\n",
        "  #plt.imshow(image),\n",
        "plt.show()"
      ],
      "execution_count": null,
      "outputs": [
        {
          "output_type": "stream",
          "text": [
            "Unknown\n"
          ],
          "name": "stdout"
        },
        {
          "output_type": "display_data",
          "data": {
            "image/png": "[encoded data removed]",
            "text/plain": [
              "<Figure size 432x288 with 1 Axes>"
            ]
          },
          "metadata": {
            "tags": [],
            "needs_background": "light"
          }
        }
      ]
    }
  ]
}